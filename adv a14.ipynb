{
 "cells": [
  {
   "cell_type": "code",
   "execution_count": null,
   "id": "53154d71",
   "metadata": {},
   "outputs": [],
   "source": [
    "# Is an assignment operator like += only for show? Is it possible that it would lead to faster results at the runtime?\n",
    "\n",
    "The compound-assignment operators combine the simple-assignment operator with another binary operator. Compound-assignment operators perform the operation specified by the additional operator, then assign the result to the left operand. For example, a compound-assignment expression such as\n",
    "\n",
    "expression1 += expression2"
   ]
  },
  {
   "cell_type": "code",
   "execution_count": null,
   "id": "b4dc8569",
   "metadata": {},
   "outputs": [],
   "source": [
    "# In Python, what is the most effective way to set a list of 100 integers to 0?\n",
    "\n",
    "Simple loop with append : my_list = [] for i in range(50): my_list.append(0)\n",
    "Simple loop with += : my_list = [] for i in range(50): my_list += [0]\n",
    "List comprehension: my_list = [0 for i in range(50)]"
   ]
  },
  {
   "cell_type": "code",
   "execution_count": null,
   "id": "a23915b2",
   "metadata": {},
   "outputs": [],
   "source": [
    "# If you are using IDLE to run a Python application, explain how to print a multidimensional list as efficiently?\n",
    "\n",
    "# Python program to demonstrate printing\n",
    "# of complete multidimensional list\n",
    "a = [[2, 4, 6, 8, 10], [3, 6, 9, 12, 15], [4, 8, 12, 16, 20]]\n",
    "print(a)\n",
    "Output:\n",
    "[[2, 4, 6, 8, 10], [3, 6, 9, 12, 15], [4, 8, 12, 16, 20]]"
   ]
  },
  {
   "cell_type": "code",
   "execution_count": null,
   "id": "bf2f51af",
   "metadata": {},
   "outputs": [],
   "source": [
    "# From the command line, how do you get support with a user-written Python programme? Is this possible from inside IDLE?\n",
    "\n",
    "To run Python scripts with the python command, you need to open a command-line and type in the word python , or python3 if you have both versions, \n",
    "followed by the path to your script, just like this: $ python3 hello.py \n",
    "    \n",
    "Hello World!"
   ]
  },
  {
   "cell_type": "code",
   "execution_count": null,
   "id": "85b064be",
   "metadata": {},
   "outputs": [],
   "source": [
    "# How do you distinguish between a wrapper, a wrapped feature, and a decorator?\n",
    "\n",
    "Wrappers around the functions are also knows as decorators which are a very powerful and useful tool in Python since \n",
    "it allows programmers to modify the behavior of function or class. Decorators allow us to wrap another function in order to extend the behavior of the wrapped function, \n",
    "without permanently modifying it."
   ]
  },
  {
   "cell_type": "code",
   "execution_count": null,
   "id": "e8093b5f",
   "metadata": {},
   "outputs": [],
   "source": [
    "# What is the one improvement that must be made to a function in order for it to become agenerator function in the Python language?\n",
    "\n",
    "If a function contains at least one yield statement (it may contain other yield or return statements), it becomes a generator function. Both yield and return will return some value from a function."
   ]
  }
 ],
 "metadata": {
  "kernelspec": {
   "display_name": "Python 3 (ipykernel)",
   "language": "python",
   "name": "python3"
  },
  "language_info": {
   "codemirror_mode": {
    "name": "ipython",
    "version": 3
   },
   "file_extension": ".py",
   "mimetype": "text/x-python",
   "name": "python",
   "nbconvert_exporter": "python",
   "pygments_lexer": "ipython3",
   "version": "3.9.7"
  }
 },
 "nbformat": 4,
 "nbformat_minor": 5
}
